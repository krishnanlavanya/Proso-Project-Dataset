{
  "nbformat": 4,
  "nbformat_minor": 0,
  "metadata": {
    "colab": {
      "provenance": [],
      "authorship_tag": "ABX9TyMBXCGNB6F5cVB6GED0OfQT",
      "include_colab_link": true
    },
    "kernelspec": {
      "name": "python3",
      "display_name": "Python 3"
    },
    "language_info": {
      "name": "python"
    }
  },
  "cells": [
    {
      "cell_type": "markdown",
      "metadata": {
        "id": "view-in-github",
        "colab_type": "text"
      },
      "source": [
        "<a href=\"https://colab.research.google.com/github/krishnanlavanya/Proso-Project-Dataset/blob/main/CV_Job_percentage.ipynb\" target=\"_parent\"><img src=\"https://colab.research.google.com/assets/colab-badge.svg\" alt=\"Open In Colab\"/></a>"
      ]
    },
    {
      "cell_type": "code",
      "execution_count": null,
      "metadata": {
        "colab": {
          "base_uri": "https://localhost:8080/"
        },
        "id": "jM0Qecd2GimJ",
        "outputId": "32de2007-b5f3-4527-9f20-5324016ba5b6"
      },
      "outputs": [
        {
          "output_type": "stream",
          "name": "stdout",
          "text": [
            "Looking in indexes: https://pypi.org/simple, https://us-python.pkg.dev/colab-wheels/public/simple/\n",
            "Requirement already satisfied: docx2txt in /usr/local/lib/python3.10/dist-packages (0.8)\n"
          ]
        }
      ],
      "source": [
        "! pip install docx2txt\n",
        "import docx2txt"
      ]
    },
    {
      "cell_type": "markdown",
      "source": [
        "# New Section"
      ],
      "metadata": {
        "id": "CealjNhDjA7_"
      }
    },
    {
      "cell_type": "code",
      "source": [
        "job_description = docx2txt.process('/content/Simple-job-description.docx')\n",
        "resume = docx2txt.process('/content/HarshitsResume.docx')"
      ],
      "metadata": {
        "id": "ITyeLgy6Gz9k"
      },
      "execution_count": null,
      "outputs": []
    },
    {
      "cell_type": "code",
      "source": [
        "print(job_description)"
      ],
      "metadata": {
        "id": "vsA4mqQNHP85"
      },
      "execution_count": null,
      "outputs": []
    },
    {
      "cell_type": "code",
      "source": [
        "print ( resume)"
      ],
      "metadata": {
        "id": "maspyvOxHtIX"
      },
      "execution_count": null,
      "outputs": []
    },
    {
      "cell_type": "code",
      "source": [
        "content = [job_description, resume]"
      ],
      "metadata": {
        "id": "w2JKiBylHTl0"
      },
      "execution_count": null,
      "outputs": []
    },
    {
      "cell_type": "code",
      "source": [
        "from sklearn.feature_extraction.text import CountVectorizer\n",
        "cv = CountVectorizer()\n",
        "count_matrix = cv.fit_transform(content)"
      ],
      "metadata": {
        "id": "tLyW2nM9Hf4M"
      },
      "execution_count": null,
      "outputs": []
    },
    {
      "cell_type": "code",
      "source": [
        "from sklearn.metrics.pairwise import cosine_similarity\n",
        "mat = cosine_similarity(count_matrix)\n",
        "print(mat)"
      ],
      "metadata": {
        "id": "A2E5qaPOHk0M",
        "colab": {
          "base_uri": "https://localhost:8080/"
        },
        "outputId": "9d7cc8fd-05d7-4081-d41b-3f71a9caccb0"
      },
      "execution_count": null,
      "outputs": [
        {
          "output_type": "stream",
          "name": "stdout",
          "text": [
            "[[1.         0.59940654]\n",
            " [0.59940654 1.        ]]\n"
          ]
        }
      ]
    },
    {
      "cell_type": "code",
      "source": [
        "print('Resume Matches by: '+  str(mat[1][0]*100) + '%')"
      ],
      "metadata": {
        "id": "lC-KEGh6Hpbd",
        "colab": {
          "base_uri": "https://localhost:8080/"
        },
        "outputId": "aeca3a90-d470-4f31-ba62-52497a568d61"
      },
      "execution_count": null,
      "outputs": [
        {
          "output_type": "stream",
          "name": "stdout",
          "text": [
            "Resume Matches by: 59.94065389256%\n"
          ]
        }
      ]
    }
  ]
}